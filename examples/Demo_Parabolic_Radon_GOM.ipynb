{
 "cells": [
  {
   "cell_type": "code",
   "execution_count": 1,
   "metadata": {},
   "outputs": [],
   "source": [
    "using SeisMain, SeisProcessing, SeisPlot, PyPlot\n",
    "\n",
    "# Explore application of the parabolic Radon transform on a real marine CMP gather"
   ]
  },
  {
   "cell_type": "code",
   "execution_count": 2,
   "metadata": {},
   "outputs": [
    {
     "name": "stderr",
     "output_type": "stream",
     "text": [
      "  % Total    % Received % Xferd  Average Speed   Time    Time     Time  Current\n",
      "                                 Dload  Upload   Total   Spent    Left  Speed\n",
      "100  650k  100  650k    0     0   996k      0 --:--:-- --:--:-- --:--:--  996k\n"
     ]
    },
    {
     "name": "stdout",
     "output_type": "stream",
     "text": [
      "number of traces: 92\n",
      "number of samples per trace: 1751\n"
     ]
    },
    {
     "data": {
      "text/plain": [
       "0.004f0"
      ]
     },
     "execution_count": 2,
     "metadata": {},
     "output_type": "execute_result"
    }
   ],
   "source": [
    "# 1- Download data set from web site (1 NMO-corrected CMP gather from the GOM)\n",
    "\n",
    "download(\"http://seismic.physics.ualberta.ca/data/gom_cdp_nmo.su\",\n",
    "         \"gom_cdp_nmo.su\")\n",
    "\n",
    "# 2- Convert SU to internal SeismicJulia format\n",
    "\n",
    "SegyToSeis(\"gom_cdp_nmo.su\", \"gom_cdp_nmo.seis\", format=\"su\", input_type=\"ieee\",\n",
    "           swap_bytes=true)\n",
    "\n",
    "# 3- Read data d and trace headers h\n",
    "\n",
    "d, h = SeisRead(\"gom_cdp_nmo.seis\")\n",
    "i1 = 801; i2 = 1201\n",
    "d = d[i1:i2, :]       # Use subset of the data\n",
    "imute = findall(x->x==0,d)  # Extract indexes of muted data\n",
    "offset = SeisMain.ExtractHeader(h, \"h\")\n",
    "offset = offset*0.3048  # SI units \n",
    "href = maximum(abs.(offset))\n",
    "nt = size(d, 1)\n",
    "dt = h[1].d1;"
   ]
  },
  {
   "cell_type": "code",
   "execution_count": 5,
   "metadata": {},
   "outputs": [],
   "source": [
    "# 4- Model data in the Radom domain via inersion with parabolic Radon transform\n",
    "p  = collect(range(-0.3; stop=0.9,length=200))\n",
    "param = Dict(:order=>\"parab\", :dt=>dt, :p=>p, :h=>offset, :href=>href,\n",
    "             :flow=>0.0, :fhigh=>125.0)\n",
    "m = SeisRadonFreqInv(d; mu=0.01, param...)\n",
    "\n",
    "# 5- Filter primaries and keep multiples in Radon gather\n",
    "mf = copy(m)\n",
    "pcut = 0.1 \n",
    "icut = findall(p .< pcut)\n",
    "mf[:, icut] .= 0\n",
    "\n",
    "# 6- Forward model multiples from Radon panel \n",
    "d_mult = SeisRadonFreqFor(mf, nt; param...)\n",
    "   \n",
    "# 7- Compute primaries = input data - modelled multiples\n",
    "d_prim = d - d_mult\n",
    "d_prim[imute] .= 0;"
   ]
  },
  {
   "cell_type": "code",
   "execution_count": null,
   "metadata": {},
   "outputs": [
    {
     "ename": "",
     "evalue": "",
     "output_type": "error",
     "traceback": [
      "\u001b[1;31mFailed to start the Kernel. \n",
      "\u001b[1;31mKernel Julia 1.8.2 is not usable. Check the Jupyter output tab for more information. \n",
      "\u001b[1;31mView Jupyter <a href='command:jupyter.viewOutput'>log</a> for further details."
     ]
    }
   ],
   "source": [
    "# 8- Plot input data, Radon panel, and estimated primaries\n",
    "\n",
    "figure(1, figsize=(9,6));\n",
    "\n",
    "t1 = (i1-1)*dt\n",
    "\n",
    "subplot(131)\n",
    "SeisPlotTX(d, title=\"Input CMP\", xlabel=\"Offset [m]\", ylabel=\"Time [s]\",\n",
    "         cmap=\"PuOr\", ox=offset[1], dx=offset[2]-offset[1], oy=t1, dy=dt,\n",
    "         fignum=1)\n",
    "\n",
    "subplot(132)\n",
    "SeisPlotTX(m[1:nt, :], title=\"Radon panel\", xlabel=\"Residual moveout [s]\",\n",
    "         cmap=\"PuOr\", ox=p[1], dx=p[2]-p[1], oy=t1, dy=dt, fignum=1)\n",
    "\n",
    "subplot(133)\n",
    "SeisPlotTX(d_prim, title=\"Estimated primaries\", xlabel=\"Offset [m]\", cmap=\"PuOr\", \n",
    "         ox=offset[1], dx=offset[2]-offset[1], oy=t1, dy=dt, fignum=1)\n",
    "\n",
    "tight_layout()\n",
    "cfg()"
   ]
  },
  {
   "cell_type": "code",
   "execution_count": null,
   "metadata": {},
   "outputs": [],
   "source": []
  }
 ],
 "metadata": {
  "kernelspec": {
   "display_name": "Julia 1.8.2",
   "language": "julia",
   "name": "julia-1.8"
  },
  "language_info": {
   "file_extension": ".jl",
   "mimetype": "application/julia",
   "name": "julia",
   "version": "1.1.0"
  }
 },
 "nbformat": 4,
 "nbformat_minor": 2
}
